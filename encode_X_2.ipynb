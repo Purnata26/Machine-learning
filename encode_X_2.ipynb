{
 "cells": [
  {
   "cell_type": "code",
   "execution_count": 9,
   "metadata": {},
   "outputs": [
    {
     "name": "stdout",
     "output_type": "stream",
     "text": [
      "PassengerId      0\n",
      "Survived         0\n",
      "Pclass           0\n",
      "Name             0\n",
      "Sex              0\n",
      "Age            177\n",
      "SibSp            0\n",
      "Parch            0\n",
      "Ticket           0\n",
      "Fare             0\n",
      "Cabin          687\n",
      "Embarked         2\n",
      "dtype: int64\n"
     ]
    }
   ],
   "source": [
    "import pandas as pd\n",
    "data=pd.read_csv('http://bit.ly/kaggletrain')\n",
    "\n",
    "print(data.isna().sum())"
   ]
  },
  {
   "cell_type": "code",
   "execution_count": 11,
   "metadata": {},
   "outputs": [
    {
     "name": "stdout",
     "output_type": "stream",
     "text": [
      "(889, 4)\n"
     ]
    }
   ],
   "source": [
    "data=data.loc[data.Embarked.notna(),['Survived','Pclass','Sex','Embarked']]\n",
    "print(data.shape)"
   ]
  },
  {
   "cell_type": "code",
   "execution_count": 12,
   "metadata": {},
   "outputs": [
    {
     "name": "stdout",
     "output_type": "stream",
     "text": [
      "(889,) (889,)\n"
     ]
    }
   ],
   "source": [
    "X=data.loc[:,'Pclass']\n",
    "y=data.Survived\n",
    "print(X.shape,y.shape)"
   ]
  },
  {
   "cell_type": "code",
   "execution_count": 22,
   "metadata": {},
   "outputs": [],
   "source": [
    "from sklearn.linear_model import LogisticRegression\n",
    "logreg = LogisticRegression()"
   ]
  },
  {
   "cell_type": "code",
   "execution_count": 23,
   "metadata": {},
   "outputs": [
    {
     "name": "stderr",
     "output_type": "stream",
     "text": [
      "c:\\users\\purnota\\appdata\\local\\programs\\python\\python38\\lib\\site-packages\\sklearn\\model_selection\\_validation.py:548: FitFailedWarning: Estimator fit failed. The score on this train-test partition for these parameters will be set to nan. Details: \n",
      "Traceback (most recent call last):\n",
      "  File \"c:\\users\\purnota\\appdata\\local\\programs\\python\\python38\\lib\\site-packages\\sklearn\\model_selection\\_validation.py\", line 531, in _fit_and_score\n",
      "    estimator.fit(X_train, y_train, **fit_params)\n",
      "  File \"c:\\users\\purnota\\appdata\\local\\programs\\python\\python38\\lib\\site-packages\\sklearn\\linear_model\\_logistic.py\", line 1342, in fit\n",
      "    X, y = self._validate_data(X, y, accept_sparse='csr', dtype=_dtype,\n",
      "  File \"c:\\users\\purnota\\appdata\\local\\programs\\python\\python38\\lib\\site-packages\\sklearn\\base.py\", line 432, in _validate_data\n",
      "    X, y = check_X_y(X, y, **check_params)\n",
      "  File \"c:\\users\\purnota\\appdata\\local\\programs\\python\\python38\\lib\\site-packages\\sklearn\\utils\\validation.py\", line 73, in inner_f\n",
      "    return f(**kwargs)\n",
      "  File \"c:\\users\\purnota\\appdata\\local\\programs\\python\\python38\\lib\\site-packages\\sklearn\\utils\\validation.py\", line 796, in check_X_y\n",
      "    X = check_array(X, accept_sparse=accept_sparse,\n",
      "  File \"c:\\users\\purnota\\appdata\\local\\programs\\python\\python38\\lib\\site-packages\\sklearn\\utils\\validation.py\", line 73, in inner_f\n",
      "    return f(**kwargs)\n",
      "  File \"c:\\users\\purnota\\appdata\\local\\programs\\python\\python38\\lib\\site-packages\\sklearn\\utils\\validation.py\", line 620, in check_array\n",
      "    raise ValueError(\n",
      "ValueError: Expected 2D array, got 1D array instead:\n",
      "array=[1. 3. 1. 3. 3. 1. 3. 3. 1. 2. 3. 3. 2. 3. 1. 3. 3. 2. 3. 3. 2. 3. 3. 3.\n",
      " 3. 3. 3. 3. 3. 3. 1. 3. 2. 3. 2. 3. 1. 3. 2. 1. 2. 3. 2. 3. 3. 1. 3. 2.\n",
      " 3. 2. 3. 1. 3. 2. 3. 2. 3. 2. 2. 2. 2. 3. 3. 2. 3. 3. 1. 3. 2. 1. 2. 3.\n",
      " 3. 1. 3. 3. 3. 1. 1. 1. 2. 3. 3. 1. 1. 3. 2. 3. 3. 1. 1. 1. 3. 2. 1. 3.\n",
      " 1. 3. 2. 3. 3. 3. 3. 3. 3. 1. 3. 3. 3. 2. 3. 1. 1. 2. 3. 3. 1. 3. 1. 1.\n",
      " 1. 3. 3. 3. 2. 3. 1. 1. 1. 2. 1. 1. 1. 2. 3. 2. 3. 2. 2. 1. 1. 3. 3. 2.\n",
      " 2. 3. 1. 3. 2. 3. 1. 3. 1. 1. 3. 1. 3. 1. 1. 3. 1. 2. 1. 2. 2. 2. 2. 2.\n",
      " 3. 3. 3. 3. 1. 3. 3. 3. 3. 1. 2. 3. 3. 3. 2. 3. 3. 3. 3. 1. 3. 3. 1. 1.\n",
      " 3. 3. 1. 3. 1. 3. 1. 3. 3. 1. 3. 3. 1. 3. 2. 3. 2. 3. 2. 1. 3. 3. 1. 3.\n",
      " 3. 3. 2. 2. 2. 3. 3. 3. 3. 3. 2. 3. 2. 3. 3. 3. 3. 1. 2. 3. 3. 2. 2. 2.\n",
      " 3. 3. 3. 3. 3. 3. 3. 2. 2. 3. 3. 1. 3. 2. 3. 1. 1. 3. 2. 1. 2. 2. 3. 3.\n",
      " 2. 3. 1. 2. 1. 3. 1. 2. 3. 1. 1. 3. 3. 1. 1. 2. 3. 1. 3. 1. 2. 3. 3. 2.\n",
      " 1. 3. 3. 3. 3. 2. 2. 3. 1. 2. 3. 3. 3. 3. 2. 3. 3. 1. 3. 1. 1. 3. 3. 3.\n",
      " 3. 1. 1. 3. 3. 1. 3. 1. 3. 3. 3. 3. 3. 1. 1. 2. 1. 3. 3. 3. 3. 1. 1. 3.\n",
      " 1. 2. 3. 2. 3. 1. 3. 3. 1. 3. 3. 2. 1. 3. 2. 2. 3. 3. 3. 3. 2. 1. 1. 3.\n",
      " 1. 1. 3. 3. 2. 1. 1. 2. 2. 3. 2. 1. 2. 3. 3. 3. 1. 1. 1. 1. 3. 3. 3. 2.\n",
      " 3. 3. 3. 3. 3. 3. 3. 2. 1. 1. 3. 3. 3. 2. 1. 3. 3. 2. 1. 2. 1. 3. 1. 2.\n",
      " 1. 3. 3. 3. 1. 3. 3. 2. 3. 2. 3. 3. 1. 2. 3. 1. 3. 1. 3. 3. 1. 2. 1. 3.\n",
      " 3. 3. 3. 3. 2. 3. 3. 2. 2. 3. 1. 3. 3. 3. 1. 2. 1. 3. 3. 1. 3. 1. 1. 3.\n",
      " 2. 3. 2. 3. 3. 3. 1. 3. 3. 3. 1. 3. 1. 3. 3. 3. 2. 3. 3. 3. 2. 3. 3. 2.\n",
      " 1. 1. 3. 1. 3. 3. 2. 2. 3. 3. 1. 2. 1. 2. 2. 2. 3. 3. 3. 3. 1. 3. 1. 3.\n",
      " 3. 2. 2. 3. 3. 3. 1. 1. 3. 3. 3. 1. 2. 3. 3. 1. 3. 1. 1. 3. 3. 3. 2. 2.\n",
      " 1. 1. 3. 1. 1. 1. 3. 2. 3. 1. 2. 3. 3. 2. 3. 2. 2. 1. 3. 2. 3. 2. 3. 1.\n",
      " 3. 2. 2. 2. 3. 3. 1. 3. 3. 1. 1. 1. 3. 3. 1. 3. 2. 1. 3. 2. 3. 3. 3. 2.\n",
      " 2. 3. 2. 3. 1. 3. 3. 3. 1. 3. 1. 1. 3. 3. 3. 3. 3. 2. 3. 2. 3. 3. 3. 3.\n",
      " 1. 3. 1. 1. 3. 3. 3. 3. 3. 3. 1. 3. 2. 3. 1. 3. 2. 1. 3. 3. 3. 2. 2. 1.\n",
      " 3. 3. 3. 1. 3. 2. 1. 3. 3. 2. 3. 3. 1. 3. 2. 3. 3. 1. 3. 1. 3. 3. 3. 3.\n",
      " 2. 3. 3. 2. 3. 3. 3. 1. 3. 3. 3. 1. 3. 2. 1. 3. 3. 3. 3. 3. 2. 1. 3. 3.\n",
      " 3. 1. 2. 3. 1. 1. 3. 3. 3. 2. 1. 3. 2. 2. 2. 1. 3. 3. 3. 1. 1. 3. 2. 3.\n",
      " 3. 3. 3. 1. 2. 3. 3. 2. 3. 3. 2. 1. 3. 1. 3.].\n",
      "Reshape your data either using array.reshape(-1, 1) if your data has a single feature or array.reshape(1, -1) if it contains a single sample.\n",
      "\n",
      "  warnings.warn(\"Estimator fit failed. The score on this train-test\"\n",
      "c:\\users\\purnota\\appdata\\local\\programs\\python\\python38\\lib\\site-packages\\sklearn\\model_selection\\_validation.py:548: FitFailedWarning: Estimator fit failed. The score on this train-test partition for these parameters will be set to nan. Details: \n",
      "Traceback (most recent call last):\n",
      "  File \"c:\\users\\purnota\\appdata\\local\\programs\\python\\python38\\lib\\site-packages\\sklearn\\model_selection\\_validation.py\", line 531, in _fit_and_score\n",
      "    estimator.fit(X_train, y_train, **fit_params)\n",
      "  File \"c:\\users\\purnota\\appdata\\local\\programs\\python\\python38\\lib\\site-packages\\sklearn\\linear_model\\_logistic.py\", line 1342, in fit\n",
      "    X, y = self._validate_data(X, y, accept_sparse='csr', dtype=_dtype,\n",
      "  File \"c:\\users\\purnota\\appdata\\local\\programs\\python\\python38\\lib\\site-packages\\sklearn\\base.py\", line 432, in _validate_data\n",
      "    X, y = check_X_y(X, y, **check_params)\n",
      "  File \"c:\\users\\purnota\\appdata\\local\\programs\\python\\python38\\lib\\site-packages\\sklearn\\utils\\validation.py\", line 73, in inner_f\n",
      "    return f(**kwargs)\n",
      "  File \"c:\\users\\purnota\\appdata\\local\\programs\\python\\python38\\lib\\site-packages\\sklearn\\utils\\validation.py\", line 796, in check_X_y\n",
      "    X = check_array(X, accept_sparse=accept_sparse,\n",
      "  File \"c:\\users\\purnota\\appdata\\local\\programs\\python\\python38\\lib\\site-packages\\sklearn\\utils\\validation.py\", line 73, in inner_f\n",
      "    return f(**kwargs)\n",
      "  File \"c:\\users\\purnota\\appdata\\local\\programs\\python\\python38\\lib\\site-packages\\sklearn\\utils\\validation.py\", line 620, in check_array\n",
      "    raise ValueError(\n",
      "ValueError: Expected 2D array, got 1D array instead:\n",
      "array=[3. 1. 3. 1. 3. 3. 1. 3. 3. 2. 3. 1. 3. 3. 3. 2. 3. 2. 3. 3. 2. 2. 3. 1.\n",
      " 3. 3. 3. 1. 3. 3. 1. 1. 3. 2. 1. 1. 3. 3. 3. 3. 3. 2. 3. 2. 3. 3. 3. 3.\n",
      " 3. 3. 3. 3. 1. 2. 1. 1. 2. 3. 2. 3. 3. 1. 3. 1. 3. 2. 3. 3. 3. 2. 3. 2.\n",
      " 3. 3. 3. 3. 3. 2. 3. 3. 3. 3. 1. 2. 3. 3. 3. 1. 3. 3. 3. 1. 3. 3. 3. 1.\n",
      " 1. 2. 2. 3. 3. 1. 3. 3. 3. 3. 3. 3. 3. 1. 3. 3. 3. 3. 3. 3. 2. 1. 3. 2.\n",
      " 3. 2. 2. 1. 3. 3. 3. 3. 3. 3. 3. 3. 2. 2. 2. 1. 1. 3. 1. 3. 3. 3. 3. 2.\n",
      " 2. 3. 3. 2. 2. 2. 1. 3. 3. 3. 1. 3. 3. 3. 3. 3. 2. 3. 3. 3. 3. 1. 3. 3.\n",
      " 2. 3. 3. 1. 2. 3. 2. 1. 1. 3. 1. 3. 3. 3. 2. 3. 3. 3. 3. 1. 3. 3. 1. 1.\n",
      " 3. 3. 1. 3. 1. 3. 1. 3. 3. 1. 3. 3. 1. 3. 2. 3. 2. 3. 2. 1. 3. 3. 1. 3.\n",
      " 3. 3. 2. 2. 2. 3. 3. 3. 3. 3. 2. 3. 2. 3. 3. 3. 3. 1. 2. 3. 3. 2. 2. 2.\n",
      " 3. 3. 3. 3. 3. 3. 3. 2. 2. 3. 3. 1. 3. 2. 3. 1. 1. 3. 2. 1. 2. 2. 3. 3.\n",
      " 2. 3. 1. 2. 1. 3. 1. 2. 3. 1. 1. 3. 3. 1. 1. 2. 3. 1. 3. 1. 2. 3. 3. 2.\n",
      " 1. 3. 3. 3. 3. 2. 2. 3. 1. 2. 3. 3. 3. 3. 2. 3. 3. 1. 3. 1. 1. 3. 3. 3.\n",
      " 3. 1. 1. 3. 3. 1. 3. 1. 3. 3. 3. 3. 3. 1. 1. 2. 1. 3. 3. 3. 3. 1. 1. 3.\n",
      " 1. 2. 3. 2. 3. 1. 3. 3. 1. 3. 3. 2. 1. 3. 2. 2. 3. 3. 3. 3. 2. 1. 1. 3.\n",
      " 1. 1. 3. 3. 2. 1. 1. 2. 2. 3. 2. 1. 2. 3. 3. 3. 1. 1. 1. 1. 3. 3. 3. 2.\n",
      " 3. 3. 3. 3. 3. 3. 3. 2. 1. 1. 3. 3. 3. 2. 1. 3. 3. 2. 1. 2. 1. 3. 1. 2.\n",
      " 1. 3. 3. 3. 1. 3. 3. 2. 3. 2. 3. 3. 1. 2. 3. 1. 3. 1. 3. 3. 1. 2. 1. 3.\n",
      " 3. 3. 3. 3. 2. 3. 3. 2. 2. 3. 1. 3. 3. 3. 1. 2. 1. 3. 3. 1. 3. 1. 1. 3.\n",
      " 2. 3. 2. 3. 3. 3. 1. 3. 3. 3. 1. 3. 1. 3. 3. 3. 2. 3. 3. 3. 2. 3. 3. 2.\n",
      " 1. 1. 3. 1. 3. 3. 2. 2. 3. 3. 1. 2. 1. 2. 2. 2. 3. 3. 3. 3. 1. 3. 1. 3.\n",
      " 3. 2. 2. 3. 3. 3. 1. 1. 3. 3. 3. 1. 2. 3. 3. 1. 3. 1. 1. 3. 3. 3. 2. 2.\n",
      " 1. 1. 3. 1. 1. 1. 3. 2. 3. 1. 2. 3. 3. 2. 3. 2. 2. 1. 3. 2. 3. 2. 3. 1.\n",
      " 3. 2. 2. 2. 3. 3. 1. 3. 3. 1. 1. 1. 3. 3. 1. 3. 2. 1. 3. 2. 3. 3. 3. 2.\n",
      " 2. 3. 2. 3. 1. 3. 3. 3. 1. 3. 1. 1. 3. 3. 3. 3. 3. 2. 3. 2. 3. 3. 3. 3.\n",
      " 1. 3. 1. 1. 3. 3. 3. 3. 3. 3. 1. 3. 2. 3. 1. 3. 2. 1. 3. 3. 3. 2. 2. 1.\n",
      " 3. 3. 3. 1. 3. 2. 1. 3. 3. 2. 3. 3. 1. 3. 2. 3. 3. 1. 3. 1. 3. 3. 3. 3.\n",
      " 2. 3. 3. 2. 3. 3. 3. 1. 3. 3. 3. 1. 3. 2. 1. 3. 3. 3. 3. 3. 2. 1. 3. 3.\n",
      " 3. 1. 2. 3. 1. 1. 3. 3. 3. 2. 1. 3. 2. 2. 2. 1. 3. 3. 3. 1. 1. 3. 2. 3.\n",
      " 3. 3. 3. 1. 2. 3. 3. 2. 3. 3. 2. 1. 3. 1. 3.].\n",
      "Reshape your data either using array.reshape(-1, 1) if your data has a single feature or array.reshape(1, -1) if it contains a single sample.\n",
      "\n",
      "  warnings.warn(\"Estimator fit failed. The score on this train-test\"\n",
      "c:\\users\\purnota\\appdata\\local\\programs\\python\\python38\\lib\\site-packages\\sklearn\\model_selection\\_validation.py:548: FitFailedWarning: Estimator fit failed. The score on this train-test partition for these parameters will be set to nan. Details: \n",
      "Traceback (most recent call last):\n",
      "  File \"c:\\users\\purnota\\appdata\\local\\programs\\python\\python38\\lib\\site-packages\\sklearn\\model_selection\\_validation.py\", line 531, in _fit_and_score\n",
      "    estimator.fit(X_train, y_train, **fit_params)\n",
      "  File \"c:\\users\\purnota\\appdata\\local\\programs\\python\\python38\\lib\\site-packages\\sklearn\\linear_model\\_logistic.py\", line 1342, in fit\n",
      "    X, y = self._validate_data(X, y, accept_sparse='csr', dtype=_dtype,\n",
      "  File \"c:\\users\\purnota\\appdata\\local\\programs\\python\\python38\\lib\\site-packages\\sklearn\\base.py\", line 432, in _validate_data\n",
      "    X, y = check_X_y(X, y, **check_params)\n",
      "  File \"c:\\users\\purnota\\appdata\\local\\programs\\python\\python38\\lib\\site-packages\\sklearn\\utils\\validation.py\", line 73, in inner_f\n",
      "    return f(**kwargs)\n",
      "  File \"c:\\users\\purnota\\appdata\\local\\programs\\python\\python38\\lib\\site-packages\\sklearn\\utils\\validation.py\", line 796, in check_X_y\n",
      "    X = check_array(X, accept_sparse=accept_sparse,\n",
      "  File \"c:\\users\\purnota\\appdata\\local\\programs\\python\\python38\\lib\\site-packages\\sklearn\\utils\\validation.py\", line 73, in inner_f\n",
      "    return f(**kwargs)\n",
      "  File \"c:\\users\\purnota\\appdata\\local\\programs\\python\\python38\\lib\\site-packages\\sklearn\\utils\\validation.py\", line 620, in check_array\n",
      "    raise ValueError(\n",
      "ValueError: Expected 2D array, got 1D array instead:\n",
      "array=[3. 1. 3. 1. 3. 3. 1. 3. 3. 2. 3. 1. 3. 3. 3. 2. 3. 2. 3. 3. 2. 2. 3. 1.\n",
      " 3. 3. 3. 1. 3. 3. 1. 1. 3. 2. 1. 1. 3. 3. 3. 3. 3. 2. 3. 2. 3. 3. 3. 3.\n",
      " 3. 3. 3. 3. 1. 2. 1. 1. 2. 3. 2. 3. 3. 1. 3. 1. 3. 2. 3. 3. 3. 2. 3. 2.\n",
      " 3. 3. 3. 3. 3. 2. 3. 3. 3. 3. 1. 2. 3. 3. 3. 1. 3. 3. 3. 1. 3. 3. 3. 1.\n",
      " 1. 2. 2. 3. 3. 1. 3. 3. 3. 3. 3. 3. 3. 1. 3. 3. 3. 3. 3. 3. 2. 1. 3. 2.\n",
      " 3. 2. 2. 1. 3. 3. 3. 3. 3. 3. 3. 3. 2. 2. 2. 1. 1. 3. 1. 3. 3. 3. 3. 2.\n",
      " 2. 3. 3. 2. 2. 2. 1. 3. 3. 3. 1. 3. 3. 3. 3. 3. 2. 3. 3. 3. 3. 1. 3. 1.\n",
      " 3. 1. 3. 3. 3. 1. 3. 3. 1. 2. 3. 3. 2. 3. 2. 3. 1. 3. 1. 3. 3. 2. 2. 3.\n",
      " 2. 1. 1. 3. 3. 3. 2. 3. 3. 3. 3. 3. 3. 3. 3. 3. 1. 3. 2. 3. 2. 3. 1. 3.\n",
      " 2. 1. 2. 3. 2. 3. 3. 1. 3. 2. 3. 2. 3. 1. 3. 2. 3. 2. 3. 2. 2. 2. 2. 3.\n",
      " 3. 2. 3. 3. 1. 3. 2. 1. 2. 3. 3. 1. 3. 3. 3. 1. 1. 1. 2. 3. 3. 1. 1. 3.\n",
      " 2. 3. 3. 1. 1. 1. 3. 2. 1. 3. 1. 3. 2. 3. 3. 3. 3. 3. 3. 1. 3. 3. 3. 2.\n",
      " 3. 1. 1. 2. 3. 3. 1. 3. 1. 1. 1. 3. 3. 3. 2. 3. 1. 1. 1. 2. 1. 1. 1. 2.\n",
      " 3. 2. 3. 2. 2. 1. 1. 3. 3. 2. 2. 3. 1. 3. 2. 3. 1. 3. 1. 1. 3. 1. 3. 1.\n",
      " 1. 3. 1. 2. 1. 2. 2. 2. 2. 2. 3. 3. 3. 3. 1. 3. 3. 3. 3. 2. 2. 3. 2. 1.\n",
      " 1. 1. 3. 3. 2. 1. 1. 2. 2. 3. 2. 1. 2. 3. 3. 3. 1. 1. 1. 1. 3. 3. 3. 2.\n",
      " 3. 3. 3. 3. 3. 3. 3. 2. 1. 1. 3. 3. 3. 2. 1. 3. 3. 2. 1. 2. 1. 3. 1. 2.\n",
      " 1. 3. 3. 3. 1. 3. 3. 2. 3. 2. 3. 3. 1. 2. 3. 1. 3. 1. 3. 3. 1. 2. 1. 3.\n",
      " 3. 3. 3. 3. 2. 3. 3. 2. 2. 3. 1. 3. 3. 3. 1. 2. 1. 3. 3. 1. 3. 1. 1. 3.\n",
      " 2. 3. 2. 3. 3. 3. 1. 3. 3. 3. 1. 3. 1. 3. 3. 3. 2. 3. 3. 3. 2. 3. 3. 2.\n",
      " 1. 1. 3. 1. 3. 3. 2. 2. 3. 3. 1. 2. 1. 2. 2. 2. 3. 3. 3. 3. 1. 3. 1. 3.\n",
      " 3. 2. 2. 3. 3. 3. 1. 1. 3. 3. 3. 1. 2. 3. 3. 1. 3. 1. 1. 3. 3. 3. 2. 2.\n",
      " 1. 1. 3. 1. 1. 1. 3. 2. 3. 1. 2. 3. 3. 2. 3. 2. 2. 1. 3. 2. 3. 2. 3. 1.\n",
      " 3. 2. 2. 2. 3. 3. 1. 3. 3. 1. 1. 1. 3. 3. 1. 3. 2. 1. 3. 2. 3. 3. 3. 2.\n",
      " 2. 3. 2. 3. 1. 3. 3. 3. 1. 3. 1. 1. 3. 3. 3. 3. 3. 2. 3. 2. 3. 3. 3. 3.\n",
      " 1. 3. 1. 1. 3. 3. 3. 3. 3. 3. 1. 3. 2. 3. 1. 3. 2. 1. 3. 3. 3. 2. 2. 1.\n",
      " 3. 3. 3. 1. 3. 2. 1. 3. 3. 2. 3. 3. 1. 3. 2. 3. 3. 1. 3. 1. 3. 3. 3. 3.\n",
      " 2. 3. 3. 2. 3. 3. 3. 1. 3. 3. 3. 1. 3. 2. 1. 3. 3. 3. 3. 3. 2. 1. 3. 3.\n",
      " 3. 1. 2. 3. 1. 1. 3. 3. 3. 2. 1. 3. 2. 2. 2. 1. 3. 3. 3. 1. 1. 3. 2. 3.\n",
      " 3. 3. 3. 1. 2. 3. 3. 2. 3. 3. 2. 1. 3. 1. 3.].\n",
      "Reshape your data either using array.reshape(-1, 1) if your data has a single feature or array.reshape(1, -1) if it contains a single sample.\n",
      "\n",
      "  warnings.warn(\"Estimator fit failed. The score on this train-test\"\n",
      "c:\\users\\purnota\\appdata\\local\\programs\\python\\python38\\lib\\site-packages\\sklearn\\model_selection\\_validation.py:548: FitFailedWarning: Estimator fit failed. The score on this train-test partition for these parameters will be set to nan. Details: \n",
      "Traceback (most recent call last):\n",
      "  File \"c:\\users\\purnota\\appdata\\local\\programs\\python\\python38\\lib\\site-packages\\sklearn\\model_selection\\_validation.py\", line 531, in _fit_and_score\n",
      "    estimator.fit(X_train, y_train, **fit_params)\n",
      "  File \"c:\\users\\purnota\\appdata\\local\\programs\\python\\python38\\lib\\site-packages\\sklearn\\linear_model\\_logistic.py\", line 1342, in fit\n",
      "    X, y = self._validate_data(X, y, accept_sparse='csr', dtype=_dtype,\n",
      "  File \"c:\\users\\purnota\\appdata\\local\\programs\\python\\python38\\lib\\site-packages\\sklearn\\base.py\", line 432, in _validate_data\n",
      "    X, y = check_X_y(X, y, **check_params)\n",
      "  File \"c:\\users\\purnota\\appdata\\local\\programs\\python\\python38\\lib\\site-packages\\sklearn\\utils\\validation.py\", line 73, in inner_f\n",
      "    return f(**kwargs)\n",
      "  File \"c:\\users\\purnota\\appdata\\local\\programs\\python\\python38\\lib\\site-packages\\sklearn\\utils\\validation.py\", line 796, in check_X_y\n",
      "    X = check_array(X, accept_sparse=accept_sparse,\n",
      "  File \"c:\\users\\purnota\\appdata\\local\\programs\\python\\python38\\lib\\site-packages\\sklearn\\utils\\validation.py\", line 73, in inner_f\n",
      "    return f(**kwargs)\n",
      "  File \"c:\\users\\purnota\\appdata\\local\\programs\\python\\python38\\lib\\site-packages\\sklearn\\utils\\validation.py\", line 620, in check_array\n",
      "    raise ValueError(\n",
      "ValueError: Expected 2D array, got 1D array instead:\n",
      "array=[3. 1. 3. 1. 3. 3. 1. 3. 3. 2. 3. 1. 3. 3. 3. 2. 3. 2. 3. 3. 2. 2. 3. 1.\n",
      " 3. 3. 3. 1. 3. 3. 1. 1. 3. 2. 1. 1. 3. 3. 3. 3. 3. 2. 3. 2. 3. 3. 3. 3.\n",
      " 3. 3. 3. 3. 1. 2. 1. 1. 2. 3. 2. 3. 3. 1. 3. 1. 3. 2. 3. 3. 3. 2. 3. 2.\n",
      " 3. 3. 3. 3. 3. 2. 3. 3. 3. 3. 1. 2. 3. 3. 3. 1. 3. 3. 3. 1. 3. 3. 3. 1.\n",
      " 1. 2. 2. 3. 3. 1. 3. 3. 3. 3. 3. 3. 3. 1. 3. 3. 3. 3. 3. 3. 2. 1. 3. 2.\n",
      " 3. 2. 2. 1. 3. 3. 3. 3. 3. 3. 3. 3. 2. 2. 2. 1. 1. 3. 1. 3. 3. 3. 3. 2.\n",
      " 2. 3. 3. 2. 2. 2. 1. 3. 3. 3. 1. 3. 3. 3. 3. 3. 2. 3. 3. 3. 3. 1. 3. 1.\n",
      " 3. 1. 3. 3. 3. 1. 3. 3. 1. 2. 3. 3. 2. 3. 2. 3. 1. 3. 1. 3. 3. 2. 2. 3.\n",
      " 2. 1. 1. 3. 3. 3. 2. 3. 3. 3. 3. 3. 3. 3. 3. 3. 1. 3. 2. 3. 2. 3. 1. 3.\n",
      " 2. 1. 2. 3. 2. 3. 3. 1. 3. 2. 3. 2. 3. 1. 3. 2. 3. 2. 3. 2. 2. 2. 2. 3.\n",
      " 3. 2. 3. 3. 1. 3. 2. 1. 2. 3. 3. 1. 3. 3. 3. 1. 1. 1. 2. 3. 3. 1. 1. 3.\n",
      " 2. 3. 3. 1. 1. 1. 3. 2. 1. 3. 1. 3. 2. 3. 3. 3. 3. 3. 3. 1. 3. 3. 3. 2.\n",
      " 3. 1. 1. 2. 3. 3. 1. 3. 1. 1. 1. 3. 3. 3. 2. 3. 1. 1. 1. 2. 1. 1. 1. 2.\n",
      " 3. 2. 3. 2. 2. 1. 1. 3. 3. 2. 2. 3. 1. 3. 2. 3. 1. 3. 1. 1. 3. 1. 3. 1.\n",
      " 1. 3. 1. 2. 1. 2. 2. 2. 2. 2. 3. 3. 3. 3. 1. 3. 3. 3. 3. 1. 2. 3. 3. 3.\n",
      " 2. 3. 3. 3. 3. 1. 3. 3. 1. 1. 3. 3. 1. 3. 1. 3. 1. 3. 3. 1. 3. 3. 1. 3.\n",
      " 2. 3. 2. 3. 2. 1. 3. 3. 1. 3. 3. 3. 2. 2. 2. 3. 3. 3. 3. 3. 2. 3. 2. 3.\n",
      " 3. 3. 3. 1. 2. 3. 3. 2. 2. 2. 3. 3. 3. 3. 3. 3. 3. 2. 2. 3. 3. 1. 3. 2.\n",
      " 3. 1. 1. 3. 2. 1. 2. 2. 3. 3. 2. 3. 1. 2. 1. 3. 1. 2. 3. 1. 1. 3. 3. 1.\n",
      " 1. 2. 3. 1. 3. 1. 2. 3. 3. 2. 1. 3. 3. 3. 3. 2. 2. 3. 1. 2. 3. 3. 3. 3.\n",
      " 2. 3. 3. 1. 3. 1. 1. 3. 3. 3. 3. 1. 1. 3. 3. 1. 3. 1. 3. 3. 3. 3. 3. 1.\n",
      " 1. 2. 1. 3. 3. 3. 3. 1. 1. 3. 1. 2. 3. 2. 3. 1. 3. 3. 1. 3. 3. 2. 1. 3.\n",
      " 2. 3. 3. 3. 1. 3. 2. 1. 1. 3. 1. 1. 1. 2. 2. 2. 2. 1. 3. 2. 3. 2. 3. 1.\n",
      " 3. 2. 2. 2. 3. 3. 1. 3. 3. 1. 1. 1. 3. 3. 1. 3. 2. 1. 3. 2. 3. 3. 3. 2.\n",
      " 2. 3. 2. 3. 1. 3. 3. 3. 1. 3. 1. 1. 3. 3. 3. 3. 3. 2. 3. 2. 3. 3. 3. 3.\n",
      " 1. 3. 1. 1. 3. 3. 3. 3. 3. 3. 1. 3. 2. 3. 1. 3. 2. 1. 3. 3. 3. 2. 2. 1.\n",
      " 3. 3. 3. 1. 3. 2. 1. 3. 3. 2. 3. 3. 1. 3. 2. 3. 3. 1. 3. 1. 3. 3. 3. 3.\n",
      " 2. 3. 3. 2. 3. 3. 3. 1. 3. 3. 3. 1. 3. 2. 1. 3. 3. 3. 3. 3. 2. 1. 3. 3.\n",
      " 3. 1. 2. 3. 1. 1. 3. 3. 3. 2. 1. 3. 2. 2. 2. 1. 3. 3. 3. 1. 1. 3. 2. 3.\n",
      " 3. 3. 3. 1. 2. 3. 3. 2. 3. 3. 2. 1. 3. 1. 3.].\n",
      "Reshape your data either using array.reshape(-1, 1) if your data has a single feature or array.reshape(1, -1) if it contains a single sample.\n",
      "\n",
      "  warnings.warn(\"Estimator fit failed. The score on this train-test\"\n",
      "c:\\users\\purnota\\appdata\\local\\programs\\python\\python38\\lib\\site-packages\\sklearn\\model_selection\\_validation.py:548: FitFailedWarning: Estimator fit failed. The score on this train-test partition for these parameters will be set to nan. Details: \n",
      "Traceback (most recent call last):\n",
      "  File \"c:\\users\\purnota\\appdata\\local\\programs\\python\\python38\\lib\\site-packages\\sklearn\\model_selection\\_validation.py\", line 531, in _fit_and_score\n",
      "    estimator.fit(X_train, y_train, **fit_params)\n",
      "  File \"c:\\users\\purnota\\appdata\\local\\programs\\python\\python38\\lib\\site-packages\\sklearn\\linear_model\\_logistic.py\", line 1342, in fit\n",
      "    X, y = self._validate_data(X, y, accept_sparse='csr', dtype=_dtype,\n",
      "  File \"c:\\users\\purnota\\appdata\\local\\programs\\python\\python38\\lib\\site-packages\\sklearn\\base.py\", line 432, in _validate_data\n",
      "    X, y = check_X_y(X, y, **check_params)\n",
      "  File \"c:\\users\\purnota\\appdata\\local\\programs\\python\\python38\\lib\\site-packages\\sklearn\\utils\\validation.py\", line 73, in inner_f\n",
      "    return f(**kwargs)\n",
      "  File \"c:\\users\\purnota\\appdata\\local\\programs\\python\\python38\\lib\\site-packages\\sklearn\\utils\\validation.py\", line 796, in check_X_y\n",
      "    X = check_array(X, accept_sparse=accept_sparse,\n",
      "  File \"c:\\users\\purnota\\appdata\\local\\programs\\python\\python38\\lib\\site-packages\\sklearn\\utils\\validation.py\", line 73, in inner_f\n",
      "    return f(**kwargs)\n",
      "  File \"c:\\users\\purnota\\appdata\\local\\programs\\python\\python38\\lib\\site-packages\\sklearn\\utils\\validation.py\", line 620, in check_array\n",
      "    raise ValueError(\n",
      "ValueError: Expected 2D array, got 1D array instead:\n",
      "array=[3. 1. 3. 1. 3. 3. 1. 3. 3. 2. 3. 1. 3. 3. 3. 2. 3. 2. 3. 3. 2. 2. 3. 1.\n",
      " 3. 3. 3. 1. 3. 3. 1. 1. 3. 2. 1. 1. 3. 3. 3. 3. 3. 2. 3. 2. 3. 3. 3. 3.\n",
      " 3. 3. 3. 3. 1. 2. 1. 1. 2. 3. 2. 3. 3. 1. 3. 1. 3. 2. 3. 3. 3. 2. 3. 2.\n",
      " 3. 3. 3. 3. 3. 2. 3. 3. 3. 3. 1. 2. 3. 3. 3. 1. 3. 3. 3. 1. 3. 3. 3. 1.\n",
      " 1. 2. 2. 3. 3. 1. 3. 3. 3. 3. 3. 3. 3. 1. 3. 3. 3. 3. 3. 3. 2. 1. 3. 2.\n",
      " 3. 2. 2. 1. 3. 3. 3. 3. 3. 3. 3. 3. 2. 2. 2. 1. 1. 3. 1. 3. 3. 3. 3. 2.\n",
      " 2. 3. 3. 2. 2. 2. 1. 3. 3. 3. 1. 3. 3. 3. 3. 3. 2. 3. 3. 3. 3. 1. 3. 1.\n",
      " 3. 1. 3. 3. 3. 1. 3. 3. 1. 2. 3. 3. 2. 3. 2. 3. 1. 3. 1. 3. 3. 2. 2. 3.\n",
      " 2. 1. 1. 3. 3. 3. 2. 3. 3. 3. 3. 3. 3. 3. 3. 3. 1. 3. 2. 3. 2. 3. 1. 3.\n",
      " 2. 1. 2. 3. 2. 3. 3. 1. 3. 2. 3. 2. 3. 1. 3. 2. 3. 2. 3. 2. 2. 2. 2. 3.\n",
      " 3. 2. 3. 3. 1. 3. 2. 1. 2. 3. 3. 1. 3. 3. 3. 1. 1. 1. 2. 3. 3. 1. 1. 3.\n",
      " 2. 3. 3. 1. 1. 1. 3. 2. 1. 3. 1. 3. 2. 3. 3. 3. 3. 3. 3. 1. 3. 3. 3. 2.\n",
      " 3. 1. 1. 2. 3. 3. 1. 3. 1. 1. 1. 3. 3. 3. 2. 3. 1. 1. 1. 2. 1. 1. 1. 2.\n",
      " 3. 2. 3. 2. 2. 1. 1. 3. 3. 2. 2. 3. 1. 3. 2. 3. 1. 3. 1. 1. 3. 1. 3. 1.\n",
      " 1. 3. 1. 2. 1. 2. 2. 2. 2. 2. 3. 3. 3. 3. 1. 3. 3. 3. 3. 1. 2. 3. 3. 3.\n",
      " 2. 3. 3. 3. 3. 1. 3. 3. 1. 1. 3. 3. 1. 3. 1. 3. 1. 3. 3. 1. 3. 3. 1. 3.\n",
      " 2. 3. 2. 3. 2. 1. 3. 3. 1. 3. 3. 3. 2. 2. 2. 3. 3. 3. 3. 3. 2. 3. 2. 3.\n",
      " 3. 3. 3. 1. 2. 3. 3. 2. 2. 2. 3. 3. 3. 3. 3. 3. 3. 2. 2. 3. 3. 1. 3. 2.\n",
      " 3. 1. 1. 3. 2. 1. 2. 2. 3. 3. 2. 3. 1. 2. 1. 3. 1. 2. 3. 1. 1. 3. 3. 1.\n",
      " 1. 2. 3. 1. 3. 1. 2. 3. 3. 2. 1. 3. 3. 3. 3. 2. 2. 3. 1. 2. 3. 3. 3. 3.\n",
      " 2. 3. 3. 1. 3. 1. 1. 3. 3. 3. 3. 1. 1. 3. 3. 1. 3. 1. 3. 3. 3. 3. 3. 1.\n",
      " 1. 2. 1. 3. 3. 3. 3. 1. 1. 3. 1. 2. 3. 2. 3. 1. 3. 3. 1. 3. 3. 2. 1. 3.\n",
      " 2. 2. 3. 3. 3. 3. 2. 1. 1. 3. 1. 1. 3. 3. 2. 1. 1. 2. 2. 3. 2. 1. 2. 3.\n",
      " 3. 3. 1. 1. 1. 1. 3. 3. 3. 2. 3. 3. 3. 3. 3. 3. 3. 2. 1. 1. 3. 3. 3. 2.\n",
      " 1. 3. 3. 2. 1. 2. 1. 3. 1. 2. 1. 3. 3. 3. 1. 3. 3. 2. 3. 2. 3. 3. 1. 2.\n",
      " 3. 1. 3. 1. 3. 3. 1. 2. 1. 3. 3. 3. 3. 3. 2. 3. 3. 2. 2. 3. 1. 3. 3. 3.\n",
      " 1. 2. 1. 3. 3. 1. 3. 1. 1. 3. 2. 3. 2. 3. 3. 3. 1. 3. 3. 3. 1. 3. 1. 3.\n",
      " 3. 3. 2. 3. 3. 3. 2. 3. 3. 2. 1. 1. 3. 1. 3. 3. 2. 2. 3. 3. 1. 2. 1. 2.\n",
      " 2. 2. 3. 3. 3. 3. 1. 3. 1. 3. 3. 2. 2. 3. 3. 3. 1. 1. 3. 3. 3. 1. 2. 3.\n",
      " 3. 1. 3. 1. 1. 3. 3. 3. 2. 1. 3. 2. 3. 3. 3. 3.].\n",
      "Reshape your data either using array.reshape(-1, 1) if your data has a single feature or array.reshape(1, -1) if it contains a single sample.\n",
      "\n",
      "  warnings.warn(\"Estimator fit failed. The score on this train-test\"\n"
     ]
    },
    {
     "data": {
      "text/plain": [
       "nan"
      ]
     },
     "execution_count": 23,
     "metadata": {},
     "output_type": "execute_result"
    }
   ],
   "source": [
    "from sklearn.model_selection import cross_val_score\n",
    "cross_val_score(logreg, X, y, cv=5, scoring='accuracy').mean()"
   ]
  },
  {
   "cell_type": "code",
   "execution_count": 24,
   "metadata": {},
   "outputs": [
    {
     "data": {
      "text/plain": [
       "0    0.617548\n",
       "1    0.382452\n",
       "Name: Survived, dtype: float64"
      ]
     },
     "execution_count": 24,
     "metadata": {},
     "output_type": "execute_result"
    }
   ],
   "source": [
    "y.value_counts(normalize=True)"
   ]
  },
  {
   "cell_type": "code",
   "execution_count": 25,
   "metadata": {},
   "outputs": [],
   "source": [
    "from sklearn.preprocessing import OneHotEncoder\n",
    "ohe=OneHotEncoder(sparse=False)"
   ]
  },
  {
   "cell_type": "code",
   "execution_count": 27,
   "metadata": {},
   "outputs": [
    {
     "data": {
      "text/plain": [
       "array([[0., 1.],\n",
       "       [1., 0.],\n",
       "       [1., 0.],\n",
       "       ...,\n",
       "       [1., 0.],\n",
       "       [0., 1.],\n",
       "       [0., 1.]])"
      ]
     },
     "execution_count": 27,
     "metadata": {},
     "output_type": "execute_result"
    }
   ],
   "source": [
    "ohe.fit_transform(data[['Sex']])"
   ]
  },
  {
   "cell_type": "code",
   "execution_count": 29,
   "metadata": {},
   "outputs": [
    {
     "data": {
      "text/plain": [
       "[array(['female', 'male'], dtype=object)]"
      ]
     },
     "execution_count": 29,
     "metadata": {},
     "output_type": "execute_result"
    }
   ],
   "source": [
    "ohe.categories_"
   ]
  },
  {
   "cell_type": "code",
   "execution_count": 32,
   "metadata": {},
   "outputs": [],
   "source": [
    "X=data.drop('Survived',axis='columns')\n"
   ]
  },
  {
   "cell_type": "code",
   "execution_count": 33,
   "metadata": {},
   "outputs": [
    {
     "data": {
      "text/html": [
       "<div>\n",
       "<style scoped>\n",
       "    .dataframe tbody tr th:only-of-type {\n",
       "        vertical-align: middle;\n",
       "    }\n",
       "\n",
       "    .dataframe tbody tr th {\n",
       "        vertical-align: top;\n",
       "    }\n",
       "\n",
       "    .dataframe thead th {\n",
       "        text-align: right;\n",
       "    }\n",
       "</style>\n",
       "<table border=\"1\" class=\"dataframe\">\n",
       "  <thead>\n",
       "    <tr style=\"text-align: right;\">\n",
       "      <th></th>\n",
       "      <th>Pclass</th>\n",
       "      <th>Sex</th>\n",
       "      <th>Embarked</th>\n",
       "    </tr>\n",
       "  </thead>\n",
       "  <tbody>\n",
       "    <tr>\n",
       "      <th>0</th>\n",
       "      <td>3</td>\n",
       "      <td>male</td>\n",
       "      <td>S</td>\n",
       "    </tr>\n",
       "    <tr>\n",
       "      <th>1</th>\n",
       "      <td>1</td>\n",
       "      <td>female</td>\n",
       "      <td>C</td>\n",
       "    </tr>\n",
       "    <tr>\n",
       "      <th>2</th>\n",
       "      <td>3</td>\n",
       "      <td>female</td>\n",
       "      <td>S</td>\n",
       "    </tr>\n",
       "    <tr>\n",
       "      <th>3</th>\n",
       "      <td>1</td>\n",
       "      <td>female</td>\n",
       "      <td>S</td>\n",
       "    </tr>\n",
       "    <tr>\n",
       "      <th>4</th>\n",
       "      <td>3</td>\n",
       "      <td>male</td>\n",
       "      <td>S</td>\n",
       "    </tr>\n",
       "  </tbody>\n",
       "</table>\n",
       "</div>"
      ],
      "text/plain": [
       "   Pclass     Sex Embarked\n",
       "0       3    male        S\n",
       "1       1  female        C\n",
       "2       3  female        S\n",
       "3       1  female        S\n",
       "4       3    male        S"
      ]
     },
     "execution_count": 33,
     "metadata": {},
     "output_type": "execute_result"
    }
   ],
   "source": [
    "X.head()"
   ]
  },
  {
   "cell_type": "code",
   "execution_count": 34,
   "metadata": {},
   "outputs": [],
   "source": [
    "from sklearn.compose import make_column_transformer\n",
    "col_trans=make_column_transformer((OneHotEncoder(),['Sex','Embarked']),remainder='passthrough')"
   ]
  },
  {
   "cell_type": "code",
   "execution_count": 35,
   "metadata": {},
   "outputs": [
    {
     "data": {
      "text/plain": [
       "array([[0., 1., 0., 0., 1., 3.],\n",
       "       [1., 0., 1., 0., 0., 1.],\n",
       "       [1., 0., 0., 0., 1., 3.],\n",
       "       ...,\n",
       "       [1., 0., 0., 0., 1., 3.],\n",
       "       [0., 1., 1., 0., 0., 1.],\n",
       "       [0., 1., 0., 1., 0., 3.]])"
      ]
     },
     "execution_count": 35,
     "metadata": {},
     "output_type": "execute_result"
    }
   ],
   "source": [
    "col_trans.fit_transform(X)"
   ]
  },
  {
   "cell_type": "code",
   "execution_count": 38,
   "metadata": {},
   "outputs": [],
   "source": [
    "from sklearn.pipeline import make_pipeline\n",
    "pipe=make_pipeline(col_trans,logreg)\n"
   ]
  },
  {
   "cell_type": "code",
   "execution_count": 39,
   "metadata": {},
   "outputs": [
    {
     "data": {
      "text/plain": [
       "0.7727924839713071"
      ]
     },
     "execution_count": 39,
     "metadata": {},
     "output_type": "execute_result"
    }
   ],
   "source": [
    "cross_val_score(pipe, X, y, cv=5, scoring='accuracy').mean()"
   ]
  },
  {
   "cell_type": "code",
   "execution_count": 40,
   "metadata": {},
   "outputs": [
    {
     "data": {
      "text/html": [
       "<div>\n",
       "<style scoped>\n",
       "    .dataframe tbody tr th:only-of-type {\n",
       "        vertical-align: middle;\n",
       "    }\n",
       "\n",
       "    .dataframe tbody tr th {\n",
       "        vertical-align: top;\n",
       "    }\n",
       "\n",
       "    .dataframe thead th {\n",
       "        text-align: right;\n",
       "    }\n",
       "</style>\n",
       "<table border=\"1\" class=\"dataframe\">\n",
       "  <thead>\n",
       "    <tr style=\"text-align: right;\">\n",
       "      <th></th>\n",
       "      <th>Pclass</th>\n",
       "      <th>Sex</th>\n",
       "      <th>Embarked</th>\n",
       "    </tr>\n",
       "  </thead>\n",
       "  <tbody>\n",
       "    <tr>\n",
       "      <th>599</th>\n",
       "      <td>1</td>\n",
       "      <td>male</td>\n",
       "      <td>C</td>\n",
       "    </tr>\n",
       "    <tr>\n",
       "      <th>512</th>\n",
       "      <td>1</td>\n",
       "      <td>male</td>\n",
       "      <td>S</td>\n",
       "    </tr>\n",
       "    <tr>\n",
       "      <th>273</th>\n",
       "      <td>1</td>\n",
       "      <td>male</td>\n",
       "      <td>C</td>\n",
       "    </tr>\n",
       "    <tr>\n",
       "      <th>215</th>\n",
       "      <td>1</td>\n",
       "      <td>female</td>\n",
       "      <td>C</td>\n",
       "    </tr>\n",
       "    <tr>\n",
       "      <th>790</th>\n",
       "      <td>3</td>\n",
       "      <td>male</td>\n",
       "      <td>Q</td>\n",
       "    </tr>\n",
       "  </tbody>\n",
       "</table>\n",
       "</div>"
      ],
      "text/plain": [
       "     Pclass     Sex Embarked\n",
       "599       1    male        C\n",
       "512       1    male        S\n",
       "273       1    male        C\n",
       "215       1  female        C\n",
       "790       3    male        Q"
      ]
     },
     "execution_count": 40,
     "metadata": {},
     "output_type": "execute_result"
    }
   ],
   "source": [
    "X_new = X.sample(5, random_state=99)\n",
    "X_new"
   ]
  },
  {
   "cell_type": "code",
   "execution_count": 41,
   "metadata": {},
   "outputs": [
    {
     "data": {
      "text/plain": [
       "Pipeline(steps=[('columntransformer',\n",
       "                 ColumnTransformer(remainder='passthrough',\n",
       "                                   transformers=[('onehotencoder',\n",
       "                                                  OneHotEncoder(),\n",
       "                                                  ['Sex', 'Embarked'])])),\n",
       "                ('logisticregression', LogisticRegression())])"
      ]
     },
     "execution_count": 41,
     "metadata": {},
     "output_type": "execute_result"
    }
   ],
   "source": [
    "pipe.fit(X,y)"
   ]
  },
  {
   "cell_type": "code",
   "execution_count": 42,
   "metadata": {},
   "outputs": [
    {
     "data": {
      "text/plain": [
       "array([1, 0, 1, 1, 0], dtype=int64)"
      ]
     },
     "execution_count": 42,
     "metadata": {},
     "output_type": "execute_result"
    }
   ],
   "source": [
    "pipe.predict(X_new)"
   ]
  },
  {
   "cell_type": "code",
   "execution_count": null,
   "metadata": {},
   "outputs": [],
   "source": []
  }
 ],
 "metadata": {
  "kernelspec": {
   "display_name": "Python 3",
   "language": "python",
   "name": "python3"
  },
  "language_info": {
   "codemirror_mode": {
    "name": "ipython",
    "version": 3
   },
   "file_extension": ".py",
   "mimetype": "text/x-python",
   "name": "python",
   "nbconvert_exporter": "python",
   "pygments_lexer": "ipython3",
   "version": "3.8.2"
  }
 },
 "nbformat": 4,
 "nbformat_minor": 4
}
